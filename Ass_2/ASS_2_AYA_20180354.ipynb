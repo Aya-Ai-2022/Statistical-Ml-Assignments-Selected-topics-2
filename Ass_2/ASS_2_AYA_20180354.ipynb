{
  "nbformat": 4,
  "nbformat_minor": 0,
  "metadata": {
    "colab": {
      "name": "ASS_2_AYA_20180354.ipynb",
      "provenance": [],
      "collapsed_sections": []
    },
    "kernelspec": {
      "name": "python3",
      "display_name": "Python 3"
    },
    "language_info": {
      "name": "python"
    }
  },
  "cells": [
    {
      "cell_type": "markdown",
      "source": [
        "# **MC Estimations 1: Area calculation**"
      ],
      "metadata": {
        "id": "apJiDeIVDuli"
      }
    },
    {
      "cell_type": "markdown",
      "source": [
        "#1-$$F(x) = 3x^3 - 5x^2+1$$\n",
        "$$xmin= -1 \n",
        "\\\\ xmax = 2$$"
      ],
      "metadata": {
        "id": "KiR9mLf1IUgq"
      }
    },
    {
      "cell_type": "markdown",
      "source": [
        ""
      ],
      "metadata": {
        "id": "1mMv7UcuJcJe"
      }
    },
    {
      "cell_type": "markdown",
      "source": [
        "## **1000 Samples**"
      ],
      "metadata": {
        "id": "q3yQsxmhILPy"
      }
    },
    {
      "cell_type": "code",
      "source": [
        "import numpy as np\n",
        "from scipy.integrate import quad \n",
        "from pylab import *\n",
        "\n",
        "\n",
        "l=[]\n",
        "\n",
        "def func1(x):\n",
        "  \n",
        "    f=1-(5*x**2)+(3*x**2)\n",
        "    v=0\n",
        "    if f>=0:\n",
        "      l.append(x)\n",
        "      return f\n",
        "    else:\n",
        "      return v\n",
        "\n",
        "def function(x): \n",
        "    f=1-(5*x**2)+(3*x**2)\n",
        "    v=0\n",
        "    if f>=0:\n",
        "       \n",
        "       return f\n",
        "    else:\n",
        "       return (v*x)\n",
        "  \n",
        "def mc_integrate(func, a, b, n = 1000):\n",
        "    # Monte Carlo integration between x1 and x2 of given function from a to b\n",
        "    \n",
        "    vals = np.random.uniform(a, b, n)\n",
        "    y = [abs(func(val)) for val in vals]\n",
        "    \n",
        "    y_mean = np.sum(y)/n\n",
        "    integ = (b-a) * y_mean   \n",
        "    return integ\n",
        "\n",
        "print(f\"Monte Carlo solution: {mc_integrate(func1, -1, 2, 1000): .4f}\")\n",
        "res,_=quad(function, -1, 2)\n",
        "print(f\"Correct solution: {res: .4f}\")"
      ],
      "metadata": {
        "colab": {
          "base_uri": "https://localhost:8080/"
        },
        "outputId": "cf988c16-73c1-4f22-a981-590c58317f1d",
        "id": "TdgekZVb9u-U"
      },
      "execution_count": null,
      "outputs": [
        {
          "output_type": "stream",
          "name": "stdout",
          "text": [
            "Monte Carlo solution:  0.9945\n",
            "Correct solution:  0.9428\n"
          ]
        }
      ]
    },
    {
      "cell_type": "code",
      "source": [
        "mx=math.floor(max(l))\n",
        "mn=math.floor(min(l))"
      ],
      "metadata": {
        "id": "xYOHK8T16Tu9"
      },
      "execution_count": null,
      "outputs": []
    },
    {
      "cell_type": "code",
      "source": [
        "print(f'Calculation error: {np.sqrt((mx-mn)/12)/np.sqrt(1000)}')"
      ],
      "metadata": {
        "colab": {
          "base_uri": "https://localhost:8080/"
        },
        "outputId": "3952dffd-f0b1-43a2-d87d-0cd553a6f16a",
        "id": "tHnGxH0yLABy"
      },
      "execution_count": null,
      "outputs": [
        {
          "output_type": "stream",
          "name": "stdout",
          "text": [
            "Calculation error: 0.009128709291752768\n"
          ]
        }
      ]
    },
    {
      "cell_type": "markdown",
      "source": [
        "## **10000 Samples**"
      ],
      "metadata": {
        "id": "q_zL-oPDNIF6"
      }
    },
    {
      "cell_type": "code",
      "source": [
        "import numpy as np\n",
        "from scipy.integrate import quad \n",
        "from pylab import *\n",
        "\n",
        "\n",
        "l=[]\n",
        "\n",
        "def func1(x):\n",
        "  \n",
        "    f=1-(5*x**2)+(3*x**2)\n",
        "    v=0\n",
        "    if f>=0:\n",
        "      l.append(x)\n",
        "      return f\n",
        "    else:\n",
        "      return v\n",
        "\n",
        "def function(x): \n",
        "    f=1-(5*x**2)+(3*x**2)\n",
        "    v=0\n",
        "    if f>=0:\n",
        "       \n",
        "       return f\n",
        "    else:\n",
        "       return (v*x)\n",
        "  \n",
        "def mc_integrate(func, a, b, n = 10000):\n",
        "    # Monte Carlo integration between x1 and x2 of given function from a to b\n",
        "    \n",
        "    vals = np.random.uniform(a, b, n)\n",
        "    y = [abs(func(val)) for val in vals]\n",
        "    \n",
        "    y_mean = np.sum(y)/n\n",
        "    integ = (b-a) * y_mean   \n",
        "    return integ\n",
        "\n",
        "print(f\"Monte Carlo solution: {mc_integrate(func1, -1, 2, 10000): .4f}\")\n",
        "res,_=quad(function, -1, 2)\n",
        "print(f\"Correct solution: {res: .4f}\")"
      ],
      "metadata": {
        "colab": {
          "base_uri": "https://localhost:8080/"
        },
        "outputId": "3fd85cf4-1150-4728-9227-6aa3debc27e2",
        "id": "2z6PBrbQNIF7"
      },
      "execution_count": null,
      "outputs": [
        {
          "output_type": "stream",
          "name": "stdout",
          "text": [
            "Monte Carlo solution:  0.9492\n",
            "Correct solution:  0.9428\n"
          ]
        }
      ]
    },
    {
      "cell_type": "code",
      "source": [
        "mx=math.floor(max(l))\n",
        "mn=math.floor(min(l))"
      ],
      "metadata": {
        "id": "s0pQi0IPNIF7"
      },
      "execution_count": null,
      "outputs": []
    },
    {
      "cell_type": "code",
      "source": [
        "print(f'Calculation error: {np.sqrt((mx-mn)/12)/np.sqrt(10000)}')"
      ],
      "metadata": {
        "colab": {
          "base_uri": "https://localhost:8080/"
        },
        "outputId": "4c6e220d-96d7-4d2a-9364-a51da943c023",
        "id": "Q4vp24JjNIF8"
      },
      "execution_count": null,
      "outputs": [
        {
          "output_type": "stream",
          "name": "stdout",
          "text": [
            "Calculation error: 0.0028867513459481286\n"
          ]
        }
      ]
    },
    {
      "cell_type": "markdown",
      "source": [
        "#2- $$ F(x) = e^{-x}  $$\n",
        " $$xmin= -0.5 \\\\\n",
        " xmax = 1 $$"
      ],
      "metadata": {
        "id": "g5ja8bkZDeYd"
      }
    },
    {
      "cell_type": "markdown",
      "source": [
        ""
      ],
      "metadata": {
        "id": "qSnPiLigIH-y"
      }
    },
    {
      "cell_type": "markdown",
      "source": [
        "## **1000 Samples**"
      ],
      "metadata": {
        "id": "dquNDHNVIIkH"
      }
    },
    {
      "cell_type": "code",
      "source": [
        "import numpy as np\n",
        "from scipy.integrate import quad \n",
        "from pylab import *\n",
        "\n",
        "\n",
        "l=[]\n",
        "\n",
        "def func1(x):\n",
        "\n",
        "    f= e**(-x)\n",
        "    v=0\n",
        "    if f>=0:\n",
        "      l.append(x)\n",
        "      return f\n",
        "    else:\n",
        "      return v\n",
        "\n",
        "def function(x): \n",
        "    f= e**(-x)\n",
        "    v=0\n",
        "    if f>=0:\n",
        "       \n",
        "       return f\n",
        "    else:\n",
        "       return (v*x)\n",
        "  \n",
        "def mc_integrate(func, a, b, n = 1000):\n",
        "    # Monte Carlo integration between x1 and x2 of given function from a to b\n",
        "    \n",
        "    vals = np.random.uniform(a, b, n)\n",
        "    y = [abs(func(val)) for val in vals]\n",
        "    \n",
        "    y_mean = np.sum(y)/n\n",
        "    integ = (b-a) * y_mean   \n",
        "    return integ\n",
        "\n",
        "print(f\"Monte Carlo solution: {mc_integrate(func1, -0.5, 1, 1000): .4f}\")\n",
        "res,_=quad(function, -0.5,1 )\n",
        "print(f\"Correct solution: {res: .4f}\")"
      ],
      "metadata": {
        "colab": {
          "base_uri": "https://localhost:8080/"
        },
        "outputId": "64305253-e955-496a-9dfb-3812c23ba215",
        "id": "APtTP9Qy-Gjd"
      },
      "execution_count": null,
      "outputs": [
        {
          "output_type": "stream",
          "name": "stdout",
          "text": [
            "Monte Carlo solution:  1.3110\n",
            "Correct solution:  1.2808\n"
          ]
        }
      ]
    },
    {
      "cell_type": "code",
      "source": [
        "mx=(max(l))\n",
        "mn=(min(l))"
      ],
      "metadata": {
        "id": "VLOeotrK-5fO"
      },
      "execution_count": null,
      "outputs": []
    },
    {
      "cell_type": "code",
      "source": [
        "print(f'Calculation error: {np.sqrt((mx-mn)/12)/np.sqrt(1000)}')"
      ],
      "metadata": {
        "colab": {
          "base_uri": "https://localhost:8080/"
        },
        "outputId": "536fe197-e6c9-4960-de28-b389645af466",
        "id": "oJ-DQM7dK5TZ"
      },
      "execution_count": null,
      "outputs": [
        {
          "output_type": "stream",
          "name": "stdout",
          "text": [
            "Calculation error: 0.011174739552668402\n"
          ]
        }
      ]
    },
    {
      "cell_type": "code",
      "source": [
        ""
      ],
      "metadata": {
        "id": "2XMAzHNuM3tB"
      },
      "execution_count": null,
      "outputs": []
    },
    {
      "cell_type": "markdown",
      "source": [
        "## **10000 Samples**"
      ],
      "metadata": {
        "id": "RvykCQXFM5OP"
      }
    },
    {
      "cell_type": "code",
      "source": [
        "import numpy as np\n",
        "from scipy.integrate import quad \n",
        "from pylab import *\n",
        "\n",
        "\n",
        "l=[]\n",
        "\n",
        "def func1(x):\n",
        "\n",
        "    f= e**(-x)\n",
        "    v=0\n",
        "    if f>=0:\n",
        "      l.append(x)\n",
        "      return f\n",
        "    else:\n",
        "      return v\n",
        "\n",
        "def function(x): \n",
        "    f= e**(-x)\n",
        "    v=0\n",
        "    if f>=0:\n",
        "       \n",
        "       return f\n",
        "    else:\n",
        "       return (v*x)\n",
        "  \n",
        "def mc_integrate(func, a, b, n = 10000):\n",
        "    # Monte Carlo integration between x1 and x2 of given function from a to b\n",
        "    \n",
        "    vals = np.random.uniform(a, b, n)\n",
        "    y = [abs(func(val)) for val in vals]\n",
        "    \n",
        "    y_mean = np.sum(y)/n\n",
        "    integ = (b-a) * y_mean   \n",
        "    return integ\n",
        "\n",
        "print(f\"Monte Carlo solution: {mc_integrate(func1, -0.5, 1, 10000): .4f}\")\n",
        "res,_=quad(function, -0.5,1 )\n",
        "print(f\"Correct solution: {res: .4f}\")"
      ],
      "metadata": {
        "colab": {
          "base_uri": "https://localhost:8080/"
        },
        "outputId": "b1c07373-1b2b-4777-adea-efd5740de253",
        "id": "Mj8JCXmuM5OQ"
      },
      "execution_count": null,
      "outputs": [
        {
          "output_type": "stream",
          "name": "stdout",
          "text": [
            "Monte Carlo solution:  1.2807\n",
            "Correct solution:  1.2808\n"
          ]
        }
      ]
    },
    {
      "cell_type": "code",
      "source": [
        "mx=(max(l))\n",
        "mn=(min(l))"
      ],
      "metadata": {
        "id": "S4As7t4OM5OQ"
      },
      "execution_count": null,
      "outputs": []
    },
    {
      "cell_type": "code",
      "source": [
        "print(f'Calculation error: {np.sqrt((mx-mn)/12)/np.sqrt(10000)}')"
      ],
      "metadata": {
        "colab": {
          "base_uri": "https://localhost:8080/"
        },
        "outputId": "d97a4130-3ee4-44ed-c6be-a0e27911e5a0",
        "id": "fAR1j1XKM5OR"
      },
      "execution_count": null,
      "outputs": [
        {
          "output_type": "stream",
          "name": "stdout",
          "text": [
            "Calculation error: 0.003535084187420184\n"
          ]
        }
      ]
    },
    {
      "cell_type": "markdown",
      "source": [
        "#3- $$F(x) = sin(3x)$$\n",
        "$$  xmin ={ -π} \\\\ xmax=0 $$"
      ],
      "metadata": {
        "id": "b0TB40H1_rrm"
      }
    },
    {
      "cell_type": "markdown",
      "source": [
        ""
      ],
      "metadata": {
        "id": "timdR2pDIFTQ"
      }
    },
    {
      "cell_type": "markdown",
      "source": [
        "## **1000 Samples**"
      ],
      "metadata": {
        "id": "5wjpyRJnIFme"
      }
    },
    {
      "cell_type": "code",
      "source": [
        "import numpy as np\n",
        "from scipy.integrate import quad \n",
        "from pylab import *\n",
        "\n",
        "\n",
        "l=[]\n",
        "\n",
        "def func1(x):\n",
        "  \n",
        "    f=math.sin(3*x)\n",
        "    v=0\n",
        "    if f>=0:\n",
        "      l.append(x)\n",
        "      return f\n",
        "    else:\n",
        "      return v\n",
        "\n",
        "def function(x): \n",
        "    f=math.sin(3*x)\n",
        "    v=0\n",
        "    if f>=0:\n",
        "       \n",
        "       return f\n",
        "    else:\n",
        "       return (v*x)\n",
        "  \n",
        "def mc_integrate(func, a, b, n = 1000):\n",
        "    # Monte Carlo integration between x1 and x2 of given function from a to b\n",
        "    \n",
        "    vals = np.random.uniform(a, b, n)\n",
        "    y = [abs(func(val)) for val in vals]\n",
        "    \n",
        "    y_mean = np.sum(y)/n\n",
        "    integ = (b-a) * y_mean   \n",
        "    return integ\n",
        "\n",
        "print(f\"Monte Carlo solution: {mc_integrate(func1, -math.pi, 0, 1000): .4f}\")\n",
        "res,_=quad(function, -math.pi, 0)\n",
        "print(f\"Correct solution: {res: .4f}\")"
      ],
      "metadata": {
        "colab": {
          "base_uri": "https://localhost:8080/"
        },
        "outputId": "59d8bfba-7133-4711-a466-366af60186b9",
        "id": "z3rdKKNqAflx"
      },
      "execution_count": null,
      "outputs": [
        {
          "output_type": "stream",
          "name": "stdout",
          "text": [
            "Monte Carlo solution:  0.6808\n",
            "Correct solution:  0.6667\n"
          ]
        }
      ]
    },
    {
      "cell_type": "code",
      "source": [
        "mx=(max(l))\n",
        "mn=(min(l))"
      ],
      "metadata": {
        "id": "cKYxoUnB-5YH"
      },
      "execution_count": null,
      "outputs": []
    },
    {
      "cell_type": "code",
      "source": [
        "print(f'Calculation error: {np.sqrt((mx-mn)/12)/np.sqrt(1000)}')"
      ],
      "metadata": {
        "colab": {
          "base_uri": "https://localhost:8080/"
        },
        "id": "xg5FacCs-5Vd",
        "outputId": "663e31e9-66e9-498c-da67-dc75583f0ef7"
      },
      "execution_count": null,
      "outputs": [
        {
          "output_type": "stream",
          "name": "stdout",
          "text": [
            "Calculation error: 0.009325006456078368\n"
          ]
        }
      ]
    },
    {
      "cell_type": "markdown",
      "source": [
        ""
      ],
      "metadata": {
        "id": "g6FgwHTqLzv3"
      }
    },
    {
      "cell_type": "markdown",
      "source": [
        "## **10000 Samples**"
      ],
      "metadata": {
        "id": "yf6LwQaxL1ic"
      }
    },
    {
      "cell_type": "code",
      "source": [
        "import numpy as np\n",
        "from scipy.integrate import quad \n",
        "from pylab import *\n",
        "\n",
        "\n",
        "l=[]\n",
        "\n",
        "def func1(x):\n",
        "  \n",
        "    f=math.sin(3*x)\n",
        "    v=0\n",
        "    if f>=0:\n",
        "      l.append(x)\n",
        "      return f\n",
        "    else:\n",
        "      return v\n",
        "\n",
        "def function(x): \n",
        "    f=math.sin(3*x)\n",
        "    v=0\n",
        "    if f>=0:\n",
        "       \n",
        "       return f\n",
        "    else:\n",
        "       return (v*x)\n",
        "  \n",
        "def mc_integrate(func, a, b, n = 10000):\n",
        "    # Monte Carlo integration between x1 and x2 of given function from a to b\n",
        "    \n",
        "    vals = np.random.uniform(a, b, n)\n",
        "    y = [abs(func(val)) for val in vals]\n",
        "    \n",
        "    y_mean = np.sum(y)/n\n",
        "    integ = (b-a) * y_mean   \n",
        "    return integ\n",
        "\n",
        "print(f\"Monte Carlo solution: {mc_integrate(func1, -math.pi, 0, 10000): .4f}\")\n",
        "res,_=quad(function, -math.pi, 0)\n",
        "print(f\"Correct solution: {res: .4f}\")"
      ],
      "metadata": {
        "colab": {
          "base_uri": "https://localhost:8080/"
        },
        "outputId": "ac8a5e90-e84a-4317-88eb-b7c947fc3ca9",
        "id": "yafp86mML1ic"
      },
      "execution_count": null,
      "outputs": [
        {
          "output_type": "stream",
          "name": "stdout",
          "text": [
            "Monte Carlo solution:  0.6735\n",
            "Correct solution:  0.6667\n"
          ]
        }
      ]
    },
    {
      "cell_type": "code",
      "source": [
        "mx=(max(l))\n",
        "mn=(min(l))"
      ],
      "metadata": {
        "id": "IULy-mpsL1id"
      },
      "execution_count": null,
      "outputs": []
    },
    {
      "cell_type": "code",
      "source": [
        "print(f'Calculation error: {np.sqrt((mx-mn)/12)/np.sqrt(10000)}')"
      ],
      "metadata": {
        "colab": {
          "base_uri": "https://localhost:8080/"
        },
        "outputId": "888967d5-9936-450e-e5b1-065774221039",
        "id": "mfGdSzLdL1id"
      },
      "execution_count": null,
      "outputs": [
        {
          "output_type": "stream",
          "name": "stdout",
          "text": [
            "Calculation error: 0.002951649105715342\n"
          ]
        }
      ]
    },
    {
      "cell_type": "markdown",
      "source": [
        "#4- $$ F(x) = cos(4x) $$ \n",
        "$$ xmin = { -π}\\\\xmax=0$$"
      ],
      "metadata": {
        "id": "jKJUlwv9Cmo6"
      }
    },
    {
      "cell_type": "markdown",
      "source": [
        ""
      ],
      "metadata": {
        "id": "S_RsPgm5JL0v"
      }
    },
    {
      "cell_type": "markdown",
      "source": [
        "## **1000 Samples**"
      ],
      "metadata": {
        "id": "8v19Bs7ZIC_I"
      }
    },
    {
      "cell_type": "code",
      "source": [
        "import numpy as np\n",
        "from scipy.integrate import quad \n",
        "from pylab import *\n",
        "\n",
        "\n",
        "l=[]\n",
        "\n",
        "def func1(x):\n",
        "  \n",
        "    f=math.cos(4*x)\n",
        "    v=0\n",
        "    if f>=0:\n",
        "      l.append(x)\n",
        "      return f\n",
        "    else:\n",
        "      return v\n",
        "\n",
        "def function(x): \n",
        "    f=math.cos(4*x)\n",
        "    v=0\n",
        "    if f>=0:\n",
        "       \n",
        "       return f\n",
        "    else:\n",
        "       return (v*x)\n",
        "  \n",
        "def mc_integrate(func, a, b, n = 1000):\n",
        "    # Monte Carlo integration between x1 and x2 of given function from a to b\n",
        "    \n",
        "    vals = np.random.uniform(a, b, n)\n",
        "    y = [abs(func(val)) for val in vals]\n",
        "    \n",
        "    y_mean = np.sum(y)/n\n",
        "    integ = (b-a) * y_mean   \n",
        "    return integ\n",
        "\n",
        "print(f\"Monte Carlo solution: {mc_integrate(func1, -math.pi, 0, 1000): .4f}\")\n",
        "res,_=quad(function, -math.pi, 0)\n",
        "print(f\"Correct solution: {res: .4f}\")"
      ],
      "metadata": {
        "colab": {
          "base_uri": "https://localhost:8080/"
        },
        "outputId": "6ca2af2f-fb61-4ea4-972b-cd974435bd98",
        "id": "wEy3pvieHaDs"
      },
      "execution_count": null,
      "outputs": [
        {
          "output_type": "stream",
          "name": "stdout",
          "text": [
            "Monte Carlo solution:  1.0190\n",
            "Correct solution:  1.0000\n"
          ]
        }
      ]
    },
    {
      "cell_type": "code",
      "source": [
        "mx=(max(l))\n",
        "mn=(min(l))"
      ],
      "metadata": {
        "id": "NoRa5PS0HmXb"
      },
      "execution_count": null,
      "outputs": []
    },
    {
      "cell_type": "code",
      "source": [
        "print(f'Calculation error: {np.sqrt((mx-mn)/12)/np.sqrt(1000)}')"
      ],
      "metadata": {
        "colab": {
          "base_uri": "https://localhost:8080/"
        },
        "id": "FO-vkZ5bHmQ2",
        "outputId": "3ab81dc4-ca6d-4052-b0e6-c6def03868fa"
      },
      "execution_count": null,
      "outputs": [
        {
          "output_type": "stream",
          "name": "stdout",
          "text": [
            "Calculation error: 0.016173080102728506\n"
          ]
        }
      ]
    },
    {
      "cell_type": "code",
      "source": [
        ""
      ],
      "metadata": {
        "id": "tzUn-NfnLV5O"
      },
      "execution_count": null,
      "outputs": []
    },
    {
      "cell_type": "markdown",
      "source": [
        "## **10000 Samples**"
      ],
      "metadata": {
        "id": "kdgp7GOJLXuu"
      }
    },
    {
      "cell_type": "code",
      "source": [
        "import numpy as np\n",
        "from scipy.integrate import quad \n",
        "from pylab import *\n",
        "\n",
        "\n",
        "l=[]\n",
        "\n",
        "def func1(x):\n",
        "  \n",
        "    f=math.cos(4*x)\n",
        "    v=0\n",
        "    if f>=0:\n",
        "      l.append(x)\n",
        "      return f\n",
        "    else:\n",
        "      return v\n",
        "\n",
        "def function(x): \n",
        "    f=math.cos(4*x)\n",
        "    v=0\n",
        "    if f>=0:\n",
        "       \n",
        "       return f\n",
        "    else:\n",
        "       return (v*x)\n",
        "  \n",
        "def mc_integrate(func, a, b, n = 10000):\n",
        "    # Monte Carlo integration between x1 and x2 of given function from a to b\n",
        "    \n",
        "    vals = np.random.uniform(a, b, n)\n",
        "    y = [abs(func(val)) for val in vals]\n",
        "    \n",
        "    y_mean = np.sum(y)/n\n",
        "    integ = (b-a) * y_mean   \n",
        "    return integ\n",
        "\n",
        "print(f\"Monte Carlo solution: {mc_integrate(func1, -math.pi, 0, 10000): .4f}\")\n",
        "res,_=quad(function, -math.pi, 0)\n",
        "print(f\"Correct solution: {res: .4f}\")"
      ],
      "metadata": {
        "colab": {
          "base_uri": "https://localhost:8080/"
        },
        "outputId": "fdd7683f-aade-4ed1-f148-2c22f846973d",
        "id": "5FeRZ6_3LXuv"
      },
      "execution_count": null,
      "outputs": [
        {
          "output_type": "stream",
          "name": "stdout",
          "text": [
            "Monte Carlo solution:  0.9959\n",
            "Correct solution:  1.0000\n"
          ]
        }
      ]
    },
    {
      "cell_type": "code",
      "source": [
        "mx=(max(l))\n",
        "mn=(min(l))"
      ],
      "metadata": {
        "id": "6uAro_rdLXuv"
      },
      "execution_count": null,
      "outputs": []
    },
    {
      "cell_type": "code",
      "source": [
        "print(f'Calculation error: {np.sqrt((mx-mn)/12)/np.sqrt(10000)}')"
      ],
      "metadata": {
        "colab": {
          "base_uri": "https://localhost:8080/"
        },
        "outputId": "4ebfec63-0af2-47c7-ab0d-287e46306c83",
        "id": "9369Z9SBLXuw"
      },
      "execution_count": null,
      "outputs": [
        {
          "output_type": "stream",
          "name": "stdout",
          "text": [
            "Calculation error: 0.005116468044522063\n"
          ]
        }
      ]
    },
    {
      "cell_type": "markdown",
      "source": [
        "\n",
        "\n",
        "\n",
        "\n",
        "\n",
        "#5- $$ F(x) = sin(e^\n",
        "{x/2}) $$\n",
        "$$ x = 0 \\\\ x={π} $$\n",
        "\n"
      ],
      "metadata": {
        "id": "m2W1a8ciDguH"
      }
    },
    {
      "cell_type": "markdown",
      "source": [
        "## **1000 Samples**"
      ],
      "metadata": {
        "id": "Plp6cj6TH1Wg"
      }
    },
    {
      "cell_type": "code",
      "source": [
        ""
      ],
      "metadata": {
        "id": "Czp2jYBADdmk"
      },
      "execution_count": null,
      "outputs": []
    },
    {
      "cell_type": "code",
      "source": [
        "import numpy as np\n",
        "from scipy.integrate import quad \n",
        "from pylab import *\n",
        "\n",
        "\n",
        "l=[]\n",
        "\n",
        "def func1(x):\n",
        "  \n",
        "    f=math.sin(e**(x/2))\n",
        "    v=0\n",
        "    if f>=0:\n",
        "      l.append(x)\n",
        "      return f\n",
        "    else:\n",
        "      return v\n",
        "\n",
        "def function(x): \n",
        "    f=math.sin(e**(x/2))\n",
        "    v=0\n",
        "    if f>=0:\n",
        "       \n",
        "       return f\n",
        "    else:\n",
        "       return (v*x)\n",
        "  \n",
        "def mc_integrate(func, a, b, n = 1000):\n",
        "    # Monte Carlo integration between x1 and x2 of given function from a to b\n",
        "    \n",
        "    vals = np.random.uniform(a, b, n)\n",
        "    y = [abs(func(val)) for val in vals]\n",
        "    \n",
        "    y_mean = np.sum(y)/n\n",
        "    integ = (b-a) * y_mean   \n",
        "    return integ\n",
        "\n",
        "print(f\"Monte Carlo solution: {mc_integrate(func1, 0,math.pi, 1000): .4f}\")\n",
        "res,_=quad(function, 0,math.pi)\n",
        "print(f\"Correct solution: {res: .4f}\")"
      ],
      "metadata": {
        "colab": {
          "base_uri": "https://localhost:8080/"
        },
        "outputId": "516b84ce-9e5b-4330-a935-e3e97557ee74",
        "id": "BHmk0sxGDNVg"
      },
      "execution_count": null,
      "outputs": [
        {
          "output_type": "stream",
          "name": "stdout",
          "text": [
            "Monte Carlo solution:  1.8693\n",
            "Correct solution:  1.8117\n"
          ]
        }
      ]
    },
    {
      "cell_type": "code",
      "source": [
        "mx=(max(l))\n",
        "mn=(min(l))"
      ],
      "metadata": {
        "id": "V3No6GmxDTuS"
      },
      "execution_count": null,
      "outputs": []
    },
    {
      "cell_type": "code",
      "source": [
        "print(f'Calculation error: {np.sqrt((mx-mn)/12)/np.sqrt(1000)}')"
      ],
      "metadata": {
        "colab": {
          "base_uri": "https://localhost:8080/"
        },
        "id": "hJcEKF6HDYUJ",
        "outputId": "c1657ba6-0e7f-4080-c308-bc2f55d609d7"
      },
      "execution_count": null,
      "outputs": [
        {
          "output_type": "stream",
          "name": "stdout",
          "text": [
            "Calculation error: 0.013797480057624496\n"
          ]
        }
      ]
    },
    {
      "cell_type": "code",
      "source": [
        ""
      ],
      "metadata": {
        "id": "fdSIUeGuHKuE"
      },
      "execution_count": null,
      "outputs": []
    },
    {
      "cell_type": "markdown",
      "source": [
        ""
      ],
      "metadata": {
        "id": "UcnJwnHqJp_o"
      }
    },
    {
      "cell_type": "code",
      "source": [
        ""
      ],
      "metadata": {
        "id": "7pJyhI6cJs0h"
      },
      "execution_count": null,
      "outputs": []
    },
    {
      "cell_type": "markdown",
      "source": [
        "## **10000 Samples**"
      ],
      "metadata": {
        "id": "gJAv4UwtJu9E"
      }
    },
    {
      "cell_type": "code",
      "source": [
        "import numpy as np\n",
        "from scipy.integrate import quad \n",
        "from pylab import *\n",
        "\n",
        "\n",
        "l=[]\n",
        "\n",
        "def func1(x):\n",
        "  \n",
        "    f=math.sin(e**(x/2))\n",
        "    v=0\n",
        "    if f>=0:\n",
        "      l.append(x)\n",
        "      return f\n",
        "    else:\n",
        "      return v\n",
        "\n",
        "def function(x): \n",
        "    f=math.sin(e**(x/2))\n",
        "    v=0\n",
        "    if f>=0:\n",
        "       \n",
        "       return f\n",
        "    else:\n",
        "       return (v*x)\n",
        "  \n",
        "def mc_integrate(func, a, b, n = 10000):\n",
        "    # Monte Carlo integration between x1 and x2 of given function from a to b\n",
        "    \n",
        "    vals = np.random.uniform(a, b, n)\n",
        "    y = [abs(func(val)) for val in vals]\n",
        "    \n",
        "    y_mean = np.sum(y)/n\n",
        "    integ = (b-a) * y_mean   \n",
        "    return integ\n",
        "\n",
        "print(f\"Monte Carlo solution: {mc_integrate(func1, 0,math.pi, 10000): .4f}\")\n",
        "res,_=quad(function, 0,math.pi)\n",
        "print(f\"Correct solution: {res: .4f}\")"
      ],
      "metadata": {
        "colab": {
          "base_uri": "https://localhost:8080/"
        },
        "outputId": "1ddf5c1f-4026-4ef6-b9c9-6635213f958a",
        "id": "lUfQGo0rJu9G"
      },
      "execution_count": null,
      "outputs": [
        {
          "output_type": "stream",
          "name": "stdout",
          "text": [
            "Monte Carlo solution:  1.8117\n",
            "Correct solution:  1.8117\n"
          ]
        }
      ]
    },
    {
      "cell_type": "code",
      "source": [
        "mx=(max(l))\n",
        "mn=(min(l))"
      ],
      "metadata": {
        "id": "WJ47knmLJu9I"
      },
      "execution_count": null,
      "outputs": []
    },
    {
      "cell_type": "code",
      "source": [
        "print(f'Calculation error: {np.sqrt((mx-mn)/12)/100}')"
      ],
      "metadata": {
        "colab": {
          "base_uri": "https://localhost:8080/"
        },
        "outputId": "33b7887a-1fc6-451b-d631-1ba2438d5f94",
        "id": "YS1itQdIJu9I"
      },
      "execution_count": null,
      "outputs": [
        {
          "output_type": "stream",
          "name": "stdout",
          "text": [
            "Calculation error: 0.004366816008795486\n"
          ]
        }
      ]
    },
    {
      "cell_type": "code",
      "source": [
        ""
      ],
      "metadata": {
        "id": "-q8RZ1iCJu9J"
      },
      "execution_count": null,
      "outputs": []
    },
    {
      "cell_type": "markdown",
      "source": [
        ""
      ],
      "metadata": {
        "id": "MlnJf2KOJu9J"
      }
    }
  ]
}